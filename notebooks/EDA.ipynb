{
 "cells": [
  {
   "cell_type": "code",
   "execution_count": null,
   "id": "dffbe455",
   "metadata": {},
   "outputs": [],
   "source": []
  },
  {
   "cell_type": "code",
   "execution_count": 2,
   "id": "35ac81ec",
   "metadata": {},
   "outputs": [
    {
     "name": "stderr",
     "output_type": "stream",
     "text": [
      "/Users/obinnadinneya/Desktop/MER-Project/Multimodal-Emotion-Recognizer/mer-env/lib/python3.13/site-packages/tqdm/auto.py:21: TqdmWarning: IProgress not found. Please update jupyter and ipywidgets. See https://ipywidgets.readthedocs.io/en/stable/user_install.html\n",
      "  from .autonotebook import tqdm as notebook_tqdm\n"
     ]
    }
   ],
   "source": [
    "# EDA on MER Zip from Azure Blob\n",
    "from azure.storage.blob import BlobServiceClient\n",
    "from huggingface_hub import hf_hub_download\n",
    "from pathlib import Path\n",
    "import zipfile, random, os\n",
    "from dotenv import load_dotenv\n",
    "\n",
    "# pip install adlfs requests tqdm\n",
    "import os, requests\n",
    "from tqdm import tqdm\n",
    "import adlfs"
   ]
  },
  {
   "cell_type": "code",
   "execution_count": 3,
   "id": "dbaaf40b",
   "metadata": {},
   "outputs": [
    {
     "name": "stdout",
     "output_type": "stream",
     "text": [
      "Container: merdata-23\n",
      "Blob: mer2023train.zip\n",
      "ACCOUNT NAME: mymlprojectsstorage\n"
     ]
    }
   ],
   "source": [
    "# load from .env\n",
    "load_dotenv()\n",
    "\n",
    "CONN_STR  = os.getenv(\"AZURE_CONN_STR\")\n",
    "CONTAINER = os.getenv(\"AZURE_CONTAINER\", \"merdata-23\")\n",
    "BLOB_NAME = os.getenv(\"AZURE_BLOB\", \"mer2023train.zip\")\n",
    "ACCOUNT_NAME = os.getenv(\"AZURE_ACCOUNT_NAME\")      \n",
    "ACCOUNT_KEY  = os.getenv(\"AZURE_ACCOUNT_KEY\")      \n",
    "HF_TOKEN   = os.getenv(\"HF_TOKEN\")\n",
    "\n",
    "print(\"Container:\", CONTAINER)\n",
    "print(\"Blob:\", BLOB_NAME)\n",
    "print(\"ACCOUNT NAME:\", ACCOUNT_NAME)"
   ]
  },
  {
   "cell_type": "code",
   "execution_count": 4,
   "id": "ee82dcea",
   "metadata": {},
   "outputs": [],
   "source": [
    "# Hugging Face raw URLs (add all parts you need)\n",
    "HF_BASE = \"https://huggingface.co/datasets/MERChallenge/MER2023/resolve/main/\"\n",
    "FILES = [\n",
    "    \"mer2023train.z01\", \"mer2023train.z02\", \"mer2023train.z03\",\n",
    "    \"mer2023train.z04\", \"mer2023train.z05\", \"mer2023train.z06\",\n",
    "    \"mer2023train.zip\",\n",
    "]"
   ]
  },
  {
   "cell_type": "code",
   "execution_count": 6,
   "id": "1e1553e8",
   "metadata": {},
   "outputs": [
    {
     "name": "stdout",
     "output_type": "stream",
     "text": [
      "Uploading → az://merdata-23/mer2023train.z01\n"
     ]
    },
    {
     "name": "stderr",
     "output_type": "stream",
     "text": [
      "mer2023train.z01: 17545it [1:22:19,  3.55it/s]\n"
     ]
    },
    {
     "ename": "ChunkedEncodingError",
     "evalue": "('Connection broken: IncompleteRead(18398227132 bytes read, 3076609348 more expected)', IncompleteRead(18398227132 bytes read, 3076609348 more expected))",
     "output_type": "error",
     "traceback": [
      "\u001b[31m---------------------------------------------------------------------------\u001b[39m",
      "\u001b[31mIncompleteRead\u001b[39m                            Traceback (most recent call last)",
      "\u001b[36mFile \u001b[39m\u001b[32m~/Desktop/MER-Project/Multimodal-Emotion-Recognizer/mer-env/lib/python3.13/site-packages/urllib3/response.py:779\u001b[39m, in \u001b[36mHTTPResponse._error_catcher\u001b[39m\u001b[34m(self)\u001b[39m\n\u001b[32m    778\u001b[39m \u001b[38;5;28;01mtry\u001b[39;00m:\n\u001b[32m--> \u001b[39m\u001b[32m779\u001b[39m     \u001b[38;5;28;01myield\u001b[39;00m\n\u001b[32m    781\u001b[39m \u001b[38;5;28;01mexcept\u001b[39;00m SocketTimeout \u001b[38;5;28;01mas\u001b[39;00m e:\n\u001b[32m    782\u001b[39m     \u001b[38;5;66;03m# FIXME: Ideally we'd like to include the url in the ReadTimeoutError but\u001b[39;00m\n\u001b[32m    783\u001b[39m     \u001b[38;5;66;03m# there is yet no clean way to get at it from this context.\u001b[39;00m\n",
      "\u001b[36mFile \u001b[39m\u001b[32m~/Desktop/MER-Project/Multimodal-Emotion-Recognizer/mer-env/lib/python3.13/site-packages/urllib3/response.py:925\u001b[39m, in \u001b[36mHTTPResponse._raw_read\u001b[39m\u001b[34m(self, amt, read1)\u001b[39m\n\u001b[32m    915\u001b[39m     \u001b[38;5;28;01mif\u001b[39;00m (\n\u001b[32m    916\u001b[39m         \u001b[38;5;28mself\u001b[39m.enforce_content_length\n\u001b[32m    917\u001b[39m         \u001b[38;5;129;01mand\u001b[39;00m \u001b[38;5;28mself\u001b[39m.length_remaining \u001b[38;5;129;01mis\u001b[39;00m \u001b[38;5;129;01mnot\u001b[39;00m \u001b[38;5;28;01mNone\u001b[39;00m\n\u001b[32m   (...)\u001b[39m\u001b[32m    923\u001b[39m         \u001b[38;5;66;03m# raised during streaming, so all calls with incorrect\u001b[39;00m\n\u001b[32m    924\u001b[39m         \u001b[38;5;66;03m# Content-Length are caught.\u001b[39;00m\n\u001b[32m--> \u001b[39m\u001b[32m925\u001b[39m         \u001b[38;5;28;01mraise\u001b[39;00m IncompleteRead(\u001b[38;5;28mself\u001b[39m._fp_bytes_read, \u001b[38;5;28mself\u001b[39m.length_remaining)\n\u001b[32m    926\u001b[39m \u001b[38;5;28;01melif\u001b[39;00m read1 \u001b[38;5;129;01mand\u001b[39;00m (\n\u001b[32m    927\u001b[39m     (amt != \u001b[32m0\u001b[39m \u001b[38;5;129;01mand\u001b[39;00m \u001b[38;5;129;01mnot\u001b[39;00m data) \u001b[38;5;129;01mor\u001b[39;00m \u001b[38;5;28mself\u001b[39m.length_remaining == \u001b[38;5;28mlen\u001b[39m(data)\n\u001b[32m    928\u001b[39m ):\n\u001b[32m   (...)\u001b[39m\u001b[32m    931\u001b[39m     \u001b[38;5;66;03m# `http.client.HTTPResponse`, so we close it here.\u001b[39;00m\n\u001b[32m    932\u001b[39m     \u001b[38;5;66;03m# See https://github.com/python/cpython/issues/113199\u001b[39;00m\n",
      "\u001b[31mIncompleteRead\u001b[39m: IncompleteRead(18398227132 bytes read, 3076609348 more expected)",
      "\nThe above exception was the direct cause of the following exception:\n",
      "\u001b[31mProtocolError\u001b[39m                             Traceback (most recent call last)",
      "\u001b[36mFile \u001b[39m\u001b[32m~/Desktop/MER-Project/Multimodal-Emotion-Recognizer/mer-env/lib/python3.13/site-packages/requests/models.py:820\u001b[39m, in \u001b[36mResponse.iter_content.<locals>.generate\u001b[39m\u001b[34m()\u001b[39m\n\u001b[32m    819\u001b[39m \u001b[38;5;28;01mtry\u001b[39;00m:\n\u001b[32m--> \u001b[39m\u001b[32m820\u001b[39m     \u001b[38;5;28;01myield from\u001b[39;00m \u001b[38;5;28mself\u001b[39m.raw.stream(chunk_size, decode_content=\u001b[38;5;28;01mTrue\u001b[39;00m)\n\u001b[32m    821\u001b[39m \u001b[38;5;28;01mexcept\u001b[39;00m ProtocolError \u001b[38;5;28;01mas\u001b[39;00m e:\n",
      "\u001b[36mFile \u001b[39m\u001b[32m~/Desktop/MER-Project/Multimodal-Emotion-Recognizer/mer-env/lib/python3.13/site-packages/urllib3/response.py:1091\u001b[39m, in \u001b[36mHTTPResponse.stream\u001b[39m\u001b[34m(self, amt, decode_content)\u001b[39m\n\u001b[32m   1090\u001b[39m \u001b[38;5;28;01mwhile\u001b[39;00m \u001b[38;5;129;01mnot\u001b[39;00m is_fp_closed(\u001b[38;5;28mself\u001b[39m._fp) \u001b[38;5;129;01mor\u001b[39;00m \u001b[38;5;28mlen\u001b[39m(\u001b[38;5;28mself\u001b[39m._decoded_buffer) > \u001b[32m0\u001b[39m:\n\u001b[32m-> \u001b[39m\u001b[32m1091\u001b[39m     data = \u001b[38;5;28;43mself\u001b[39;49m\u001b[43m.\u001b[49m\u001b[43mread\u001b[49m\u001b[43m(\u001b[49m\u001b[43mamt\u001b[49m\u001b[43m=\u001b[49m\u001b[43mamt\u001b[49m\u001b[43m,\u001b[49m\u001b[43m \u001b[49m\u001b[43mdecode_content\u001b[49m\u001b[43m=\u001b[49m\u001b[43mdecode_content\u001b[49m\u001b[43m)\u001b[49m\n\u001b[32m   1093\u001b[39m     \u001b[38;5;28;01mif\u001b[39;00m data:\n",
      "\u001b[36mFile \u001b[39m\u001b[32m~/Desktop/MER-Project/Multimodal-Emotion-Recognizer/mer-env/lib/python3.13/site-packages/urllib3/response.py:1008\u001b[39m, in \u001b[36mHTTPResponse.read\u001b[39m\u001b[34m(self, amt, decode_content, cache_content)\u001b[39m\n\u001b[32m   1004\u001b[39m \u001b[38;5;28;01mwhile\u001b[39;00m \u001b[38;5;28mlen\u001b[39m(\u001b[38;5;28mself\u001b[39m._decoded_buffer) < amt \u001b[38;5;129;01mand\u001b[39;00m data:\n\u001b[32m   1005\u001b[39m     \u001b[38;5;66;03m# TODO make sure to initially read enough data to get past the headers\u001b[39;00m\n\u001b[32m   1006\u001b[39m     \u001b[38;5;66;03m# For example, the GZ file header takes 10 bytes, we don't want to read\u001b[39;00m\n\u001b[32m   1007\u001b[39m     \u001b[38;5;66;03m# it one byte at a time\u001b[39;00m\n\u001b[32m-> \u001b[39m\u001b[32m1008\u001b[39m     data = \u001b[38;5;28;43mself\u001b[39;49m\u001b[43m.\u001b[49m\u001b[43m_raw_read\u001b[49m\u001b[43m(\u001b[49m\u001b[43mamt\u001b[49m\u001b[43m)\u001b[49m\n\u001b[32m   1009\u001b[39m     decoded_data = \u001b[38;5;28mself\u001b[39m._decode(data, decode_content, flush_decoder)\n",
      "\u001b[36mFile \u001b[39m\u001b[32m~/Desktop/MER-Project/Multimodal-Emotion-Recognizer/mer-env/lib/python3.13/site-packages/urllib3/response.py:903\u001b[39m, in \u001b[36mHTTPResponse._raw_read\u001b[39m\u001b[34m(self, amt, read1)\u001b[39m\n\u001b[32m    901\u001b[39m fp_closed = \u001b[38;5;28mgetattr\u001b[39m(\u001b[38;5;28mself\u001b[39m._fp, \u001b[33m\"\u001b[39m\u001b[33mclosed\u001b[39m\u001b[33m\"\u001b[39m, \u001b[38;5;28;01mFalse\u001b[39;00m)\n\u001b[32m--> \u001b[39m\u001b[32m903\u001b[39m \u001b[38;5;28;01mwith\u001b[39;00m \u001b[38;5;28mself\u001b[39m._error_catcher():\n\u001b[32m    904\u001b[39m     data = \u001b[38;5;28mself\u001b[39m._fp_read(amt, read1=read1) \u001b[38;5;28;01mif\u001b[39;00m \u001b[38;5;129;01mnot\u001b[39;00m fp_closed \u001b[38;5;28;01melse\u001b[39;00m \u001b[33mb\u001b[39m\u001b[33m\"\u001b[39m\u001b[33m\"\u001b[39m\n",
      "\u001b[36mFile \u001b[39m\u001b[32m/opt/homebrew/Cellar/python@3.13/3.13.7/Frameworks/Python.framework/Versions/3.13/lib/python3.13/contextlib.py:162\u001b[39m, in \u001b[36m_GeneratorContextManager.__exit__\u001b[39m\u001b[34m(self, typ, value, traceback)\u001b[39m\n\u001b[32m    161\u001b[39m \u001b[38;5;28;01mtry\u001b[39;00m:\n\u001b[32m--> \u001b[39m\u001b[32m162\u001b[39m     \u001b[38;5;28;43mself\u001b[39;49m\u001b[43m.\u001b[49m\u001b[43mgen\u001b[49m\u001b[43m.\u001b[49m\u001b[43mthrow\u001b[49m\u001b[43m(\u001b[49m\u001b[43mvalue\u001b[49m\u001b[43m)\u001b[49m\n\u001b[32m    163\u001b[39m \u001b[38;5;28;01mexcept\u001b[39;00m \u001b[38;5;167;01mStopIteration\u001b[39;00m \u001b[38;5;28;01mas\u001b[39;00m exc:\n\u001b[32m    164\u001b[39m     \u001b[38;5;66;03m# Suppress StopIteration *unless* it's the same exception that\u001b[39;00m\n\u001b[32m    165\u001b[39m     \u001b[38;5;66;03m# was passed to throw().  This prevents a StopIteration\u001b[39;00m\n\u001b[32m    166\u001b[39m     \u001b[38;5;66;03m# raised inside the \"with\" statement from being suppressed.\u001b[39;00m\n",
      "\u001b[36mFile \u001b[39m\u001b[32m~/Desktop/MER-Project/Multimodal-Emotion-Recognizer/mer-env/lib/python3.13/site-packages/urllib3/response.py:803\u001b[39m, in \u001b[36mHTTPResponse._error_catcher\u001b[39m\u001b[34m(self)\u001b[39m\n\u001b[32m    802\u001b[39m         arg = \u001b[33mf\u001b[39m\u001b[33m\"\u001b[39m\u001b[33mConnection broken: \u001b[39m\u001b[38;5;132;01m{\u001b[39;00me\u001b[38;5;132;01m!r}\u001b[39;00m\u001b[33m\"\u001b[39m\n\u001b[32m--> \u001b[39m\u001b[32m803\u001b[39m     \u001b[38;5;28;01mraise\u001b[39;00m ProtocolError(arg, e) \u001b[38;5;28;01mfrom\u001b[39;00m\u001b[38;5;250m \u001b[39m\u001b[34;01me\u001b[39;00m\n\u001b[32m    805\u001b[39m \u001b[38;5;28;01mexcept\u001b[39;00m (HTTPException, \u001b[38;5;167;01mOSError\u001b[39;00m) \u001b[38;5;28;01mas\u001b[39;00m e:\n",
      "\u001b[31mProtocolError\u001b[39m: ('Connection broken: IncompleteRead(18398227132 bytes read, 3076609348 more expected)', IncompleteRead(18398227132 bytes read, 3076609348 more expected))",
      "\nDuring handling of the above exception, another exception occurred:\n",
      "\u001b[31mChunkedEncodingError\u001b[39m                      Traceback (most recent call last)",
      "\u001b[36mCell\u001b[39m\u001b[36m \u001b[39m\u001b[32mIn[6]\u001b[39m\u001b[32m, line 18\u001b[39m\n\u001b[32m     16\u001b[39m     dst = \u001b[33mf\u001b[39m\u001b[33m\"\u001b[39m\u001b[33maz://\u001b[39m\u001b[38;5;132;01m{\u001b[39;00mCONTAINER\u001b[38;5;132;01m}\u001b[39;00m\u001b[33m/\u001b[39m\u001b[38;5;132;01m{\u001b[39;00mfname\u001b[38;5;132;01m}\u001b[39;00m\u001b[33m\"\u001b[39m\n\u001b[32m     17\u001b[39m     \u001b[38;5;28mprint\u001b[39m(\u001b[33m\"\u001b[39m\u001b[33mUploading →\u001b[39m\u001b[33m\"\u001b[39m, dst)\n\u001b[32m---> \u001b[39m\u001b[32m18\u001b[39m     \u001b[43mcopy_http_to_blob\u001b[49m\u001b[43m(\u001b[49m\u001b[43msrc\u001b[49m\u001b[43m,\u001b[49m\u001b[43m \u001b[49m\u001b[43mdst\u001b[49m\u001b[43m)\u001b[49m\n\u001b[32m     20\u001b[39m \u001b[38;5;28mprint\u001b[39m(\u001b[33m\"\u001b[39m\u001b[33m✅ Uploaded all parts directly to Blob\u001b[39m\u001b[33m\"\u001b[39m)\n",
      "\u001b[36mCell\u001b[39m\u001b[36m \u001b[39m\u001b[32mIn[6]\u001b[39m\u001b[32m, line 10\u001b[39m, in \u001b[36mcopy_http_to_blob\u001b[39m\u001b[34m(http_url, blob_path, chunk)\u001b[39m\n\u001b[32m      8\u001b[39m r.raise_for_status()\n\u001b[32m      9\u001b[39m \u001b[38;5;28;01mwith\u001b[39;00m fs.open(blob_path, \u001b[33m\"\u001b[39m\u001b[33mwb\u001b[39m\u001b[33m\"\u001b[39m) \u001b[38;5;28;01mas\u001b[39;00m out:\n\u001b[32m---> \u001b[39m\u001b[32m10\u001b[39m \u001b[43m    \u001b[49m\u001b[38;5;28;43;01mfor\u001b[39;49;00m\u001b[43m \u001b[49m\u001b[43mc\u001b[49m\u001b[43m \u001b[49m\u001b[38;5;129;43;01min\u001b[39;49;00m\u001b[43m \u001b[49m\u001b[43mtqdm\u001b[49m\u001b[43m(\u001b[49m\u001b[43mr\u001b[49m\u001b[43m.\u001b[49m\u001b[43miter_content\u001b[49m\u001b[43m(\u001b[49m\u001b[43mchunk_size\u001b[49m\u001b[43m=\u001b[49m\u001b[43mchunk\u001b[49m\u001b[43m)\u001b[49m\u001b[43m,\u001b[49m\u001b[43m \u001b[49m\u001b[43mdesc\u001b[49m\u001b[43m=\u001b[49m\u001b[43mos\u001b[49m\u001b[43m.\u001b[49m\u001b[43mpath\u001b[49m\u001b[43m.\u001b[49m\u001b[43mbasename\u001b[49m\u001b[43m(\u001b[49m\u001b[43mblob_path\u001b[49m\u001b[43m)\u001b[49m\u001b[43m)\u001b[49m\u001b[43m:\u001b[49m\n\u001b[32m     11\u001b[39m \u001b[43m        \u001b[49m\u001b[38;5;28;43;01mif\u001b[39;49;00m\u001b[43m \u001b[49m\u001b[43mc\u001b[49m\u001b[43m:\u001b[49m\n\u001b[32m     12\u001b[39m \u001b[43m            \u001b[49m\u001b[43mout\u001b[49m\u001b[43m.\u001b[49m\u001b[43mwrite\u001b[49m\u001b[43m(\u001b[49m\u001b[43mc\u001b[49m\u001b[43m)\u001b[49m\n",
      "\u001b[36mFile \u001b[39m\u001b[32m~/Desktop/MER-Project/Multimodal-Emotion-Recognizer/mer-env/lib/python3.13/site-packages/tqdm/std.py:1181\u001b[39m, in \u001b[36mtqdm.__iter__\u001b[39m\u001b[34m(self)\u001b[39m\n\u001b[32m   1178\u001b[39m time = \u001b[38;5;28mself\u001b[39m._time\n\u001b[32m   1180\u001b[39m \u001b[38;5;28;01mtry\u001b[39;00m:\n\u001b[32m-> \u001b[39m\u001b[32m1181\u001b[39m \u001b[43m    \u001b[49m\u001b[38;5;28;43;01mfor\u001b[39;49;00m\u001b[43m \u001b[49m\u001b[43mobj\u001b[49m\u001b[43m \u001b[49m\u001b[38;5;129;43;01min\u001b[39;49;00m\u001b[43m \u001b[49m\u001b[43miterable\u001b[49m\u001b[43m:\u001b[49m\n\u001b[32m   1182\u001b[39m \u001b[43m        \u001b[49m\u001b[38;5;28;43;01myield\u001b[39;49;00m\u001b[43m \u001b[49m\u001b[43mobj\u001b[49m\n\u001b[32m   1183\u001b[39m \u001b[43m        \u001b[49m\u001b[38;5;66;43;03m# Update and possibly print the progressbar.\u001b[39;49;00m\n\u001b[32m   1184\u001b[39m \u001b[43m        \u001b[49m\u001b[38;5;66;43;03m# Note: does not call self.update(1) for speed optimisation.\u001b[39;49;00m\n",
      "\u001b[36mFile \u001b[39m\u001b[32m~/Desktop/MER-Project/Multimodal-Emotion-Recognizer/mer-env/lib/python3.13/site-packages/requests/models.py:822\u001b[39m, in \u001b[36mResponse.iter_content.<locals>.generate\u001b[39m\u001b[34m()\u001b[39m\n\u001b[32m    820\u001b[39m     \u001b[38;5;28;01myield from\u001b[39;00m \u001b[38;5;28mself\u001b[39m.raw.stream(chunk_size, decode_content=\u001b[38;5;28;01mTrue\u001b[39;00m)\n\u001b[32m    821\u001b[39m \u001b[38;5;28;01mexcept\u001b[39;00m ProtocolError \u001b[38;5;28;01mas\u001b[39;00m e:\n\u001b[32m--> \u001b[39m\u001b[32m822\u001b[39m     \u001b[38;5;28;01mraise\u001b[39;00m ChunkedEncodingError(e)\n\u001b[32m    823\u001b[39m \u001b[38;5;28;01mexcept\u001b[39;00m DecodeError \u001b[38;5;28;01mas\u001b[39;00m e:\n\u001b[32m    824\u001b[39m     \u001b[38;5;28;01mraise\u001b[39;00m ContentDecodingError(e)\n",
      "\u001b[31mChunkedEncodingError\u001b[39m: ('Connection broken: IncompleteRead(18398227132 bytes read, 3076609348 more expected)', IncompleteRead(18398227132 bytes read, 3076609348 more expected))"
     ]
    }
   ],
   "source": [
    "#Acess Azure storage account and then upload files there \n",
    "\n",
    "fs = adlfs.AzureBlobFileSystem(account_name=ACCOUNT_NAME, account_key=ACCOUNT_KEY)\n",
    "\n",
    "def copy_http_to_blob(http_url: str, blob_path: str, chunk=1024*1024):\n",
    "    headers = {\"Authorization\": f\"Bearer {HF_TOKEN}\"} if HF_TOKEN else {}\n",
    "    with requests.get(http_url, headers=headers, stream=True, allow_redirects=True) as r:\n",
    "        r.raise_for_status()\n",
    "        with fs.open(blob_path, \"wb\") as out:\n",
    "            for c in tqdm(r.iter_content(chunk_size=chunk), desc=os.path.basename(blob_path)):\n",
    "                if c:\n",
    "                    out.write(c)\n",
    "\n",
    "for fname in FILES:\n",
    "    src = HF_BASE + fname\n",
    "    dst = f\"az://{CONTAINER}/{fname}\"\n",
    "    print(\"Uploading →\", dst)\n",
    "    copy_http_to_blob(src, dst)\n",
    "\n",
    "print(\"✅ Uploaded all parts directly to Blob\")\n",
    "\n"
   ]
  },
  {
   "cell_type": "code",
   "execution_count": null,
   "id": "988f851f",
   "metadata": {},
   "outputs": [],
   "source": []
  },
  {
   "cell_type": "code",
   "execution_count": null,
   "id": "779fd2b0",
   "metadata": {},
   "outputs": [],
   "source": []
  },
  {
   "cell_type": "code",
   "execution_count": 14,
   "id": "8a13a19a",
   "metadata": {},
   "outputs": [
    {
     "name": "stdout",
     "output_type": "stream",
     "text": [
      "[cache hit] data/raw/mer2023train.zip\n"
     ]
    }
   ],
   "source": [
    "# --- 1. Download if not cached ---\n",
    "def download_blob():\n",
    "    if LOCAL_ZIP.exists():\n",
    "        print(f\"[cache hit] {LOCAL_ZIP}\")\n",
    "        return LOCAL_ZIP\n",
    "    LOCAL_ZIP.parent.mkdir(parents=True, exist_ok=True)\n",
    "    svc = BlobServiceClient.from_connection_string(CONN_STR)\n",
    "    cont = svc.get_container_client(CONTAINER)\n",
    "    blob = cont.get_blob_client(BLOB_NAME)\n",
    "    with open(LOCAL_ZIP, \"wb\") as f:\n",
    "        f.write(blob.download_blob().readall())\n",
    "    print(f\"[downloaded] {BLOB_NAME} -> {LOCAL_ZIP}\")\n",
    "    return LOCAL_ZIP\n",
    "\n",
    "zip_path = download_blob()\n"
   ]
  },
  {
   "cell_type": "code",
   "execution_count": 15,
   "id": "ed1656f0",
   "metadata": {},
   "outputs": [
    {
     "ename": "BadZipFile",
     "evalue": "zipfiles that span multiple disks are not supported",
     "output_type": "error",
     "traceback": [
      "\u001b[31m---------------------------------------------------------------------------\u001b[39m",
      "\u001b[31mBadZipFile\u001b[39m                                Traceback (most recent call last)",
      "\u001b[36mCell\u001b[39m\u001b[36m \u001b[39m\u001b[32mIn[15]\u001b[39m\u001b[32m, line 3\u001b[39m\n\u001b[32m      1\u001b[39m zip_path = Path(\u001b[33m\"\u001b[39m\u001b[33mdata/raw/mer2023train.zip\u001b[39m\u001b[33m\"\u001b[39m)\n\u001b[32m----> \u001b[39m\u001b[32m3\u001b[39m \u001b[38;5;28;01mwith\u001b[39;00m \u001b[43mzipfile\u001b[49m\u001b[43m.\u001b[49m\u001b[43mZipFile\u001b[49m\u001b[43m(\u001b[49m\u001b[43mzip_path\u001b[49m\u001b[43m,\u001b[49m\u001b[43m \u001b[49m\u001b[33;43m\"\u001b[39;49m\u001b[33;43mr\u001b[39;49m\u001b[33;43m\"\u001b[39;49m\u001b[43m)\u001b[49m \u001b[38;5;28;01mas\u001b[39;00m zf:\n\u001b[32m      4\u001b[39m     all_files = zf.namelist()\n\u001b[32m      5\u001b[39m     \u001b[38;5;28mprint\u001b[39m(\u001b[33m\"\u001b[39m\u001b[33mTotal files:\u001b[39m\u001b[33m\"\u001b[39m, \u001b[38;5;28mlen\u001b[39m(all_files))\n",
      "\u001b[36mFile \u001b[39m\u001b[32m/opt/homebrew/Cellar/python@3.13/3.13.7/Frameworks/Python.framework/Versions/3.13/lib/python3.13/zipfile/__init__.py:1385\u001b[39m, in \u001b[36mZipFile.__init__\u001b[39m\u001b[34m(self, file, mode, compression, allowZip64, compresslevel, strict_timestamps, metadata_encoding)\u001b[39m\n\u001b[32m   1383\u001b[39m \u001b[38;5;28;01mtry\u001b[39;00m:\n\u001b[32m   1384\u001b[39m     \u001b[38;5;28;01mif\u001b[39;00m mode == \u001b[33m'\u001b[39m\u001b[33mr\u001b[39m\u001b[33m'\u001b[39m:\n\u001b[32m-> \u001b[39m\u001b[32m1385\u001b[39m         \u001b[38;5;28;43mself\u001b[39;49m\u001b[43m.\u001b[49m\u001b[43m_RealGetContents\u001b[49m\u001b[43m(\u001b[49m\u001b[43m)\u001b[49m\n\u001b[32m   1386\u001b[39m     \u001b[38;5;28;01melif\u001b[39;00m mode \u001b[38;5;129;01min\u001b[39;00m (\u001b[33m'\u001b[39m\u001b[33mw\u001b[39m\u001b[33m'\u001b[39m, \u001b[33m'\u001b[39m\u001b[33mx\u001b[39m\u001b[33m'\u001b[39m):\n\u001b[32m   1387\u001b[39m         \u001b[38;5;66;03m# set the modified flag so central directory gets written\u001b[39;00m\n\u001b[32m   1388\u001b[39m         \u001b[38;5;66;03m# even if no files are added to the archive\u001b[39;00m\n\u001b[32m   1389\u001b[39m         \u001b[38;5;28mself\u001b[39m._didModify = \u001b[38;5;28;01mTrue\u001b[39;00m\n",
      "\u001b[36mFile \u001b[39m\u001b[32m/opt/homebrew/Cellar/python@3.13/3.13.7/Frameworks/Python.framework/Versions/3.13/lib/python3.13/zipfile/__init__.py:1448\u001b[39m, in \u001b[36mZipFile._RealGetContents\u001b[39m\u001b[34m(self)\u001b[39m\n\u001b[32m   1446\u001b[39m fp = \u001b[38;5;28mself\u001b[39m.fp\n\u001b[32m   1447\u001b[39m \u001b[38;5;28;01mtry\u001b[39;00m:\n\u001b[32m-> \u001b[39m\u001b[32m1448\u001b[39m     endrec = \u001b[43m_EndRecData\u001b[49m\u001b[43m(\u001b[49m\u001b[43mfp\u001b[49m\u001b[43m)\u001b[49m\n\u001b[32m   1449\u001b[39m \u001b[38;5;28;01mexcept\u001b[39;00m \u001b[38;5;167;01mOSError\u001b[39;00m:\n\u001b[32m   1450\u001b[39m     \u001b[38;5;28;01mraise\u001b[39;00m BadZipFile(\u001b[33m\"\u001b[39m\u001b[33mFile is not a zip file\u001b[39m\u001b[33m\"\u001b[39m)\n",
      "\u001b[36mFile \u001b[39m\u001b[32m/opt/homebrew/Cellar/python@3.13/3.13.7/Frameworks/Python.framework/Versions/3.13/lib/python3.13/zipfile/__init__.py:325\u001b[39m, in \u001b[36m_EndRecData\u001b[39m\u001b[34m(fpin)\u001b[39m\n\u001b[32m    322\u001b[39m     endrec.append(filesize - sizeEndCentDir)\n\u001b[32m    324\u001b[39m     \u001b[38;5;66;03m# Try to read the \"Zip64 end of central directory\" structure\u001b[39;00m\n\u001b[32m--> \u001b[39m\u001b[32m325\u001b[39m     \u001b[38;5;28;01mreturn\u001b[39;00m \u001b[43m_EndRecData64\u001b[49m\u001b[43m(\u001b[49m\u001b[43mfpin\u001b[49m\u001b[43m,\u001b[49m\u001b[43m \u001b[49m\u001b[43m-\u001b[49m\u001b[43msizeEndCentDir\u001b[49m\u001b[43m,\u001b[49m\u001b[43m \u001b[49m\u001b[43mendrec\u001b[49m\u001b[43m)\u001b[49m\n\u001b[32m    327\u001b[39m \u001b[38;5;66;03m# Either this is not a ZIP file, or it is a ZIP file with an archive\u001b[39;00m\n\u001b[32m    328\u001b[39m \u001b[38;5;66;03m# comment.  Search the end of the file for the \"end of central directory\"\u001b[39;00m\n\u001b[32m    329\u001b[39m \u001b[38;5;66;03m# record signature. The comment is the last item in the ZIP file and may be\u001b[39;00m\n\u001b[32m    330\u001b[39m \u001b[38;5;66;03m# up to 64K long.  It is assumed that the \"end of central directory\" magic\u001b[39;00m\n\u001b[32m    331\u001b[39m \u001b[38;5;66;03m# number does not appear in the comment.\u001b[39;00m\n\u001b[32m    332\u001b[39m maxCommentStart = \u001b[38;5;28mmax\u001b[39m(filesize - ZIP_MAX_COMMENT - sizeEndCentDir, \u001b[32m0\u001b[39m)\n",
      "\u001b[36mFile \u001b[39m\u001b[32m/opt/homebrew/Cellar/python@3.13/3.13.7/Frameworks/Python.framework/Versions/3.13/lib/python3.13/zipfile/__init__.py:271\u001b[39m, in \u001b[36m_EndRecData64\u001b[39m\u001b[34m(fpin, offset, endrec)\u001b[39m\n\u001b[32m    268\u001b[39m     \u001b[38;5;28;01mreturn\u001b[39;00m endrec\n\u001b[32m    270\u001b[39m \u001b[38;5;28;01mif\u001b[39;00m diskno != \u001b[32m0\u001b[39m \u001b[38;5;129;01mor\u001b[39;00m disks > \u001b[32m1\u001b[39m:\n\u001b[32m--> \u001b[39m\u001b[32m271\u001b[39m     \u001b[38;5;28;01mraise\u001b[39;00m BadZipFile(\u001b[33m\"\u001b[39m\u001b[33mzipfiles that span multiple disks are not supported\u001b[39m\u001b[33m\"\u001b[39m)\n\u001b[32m    273\u001b[39m \u001b[38;5;66;03m# Assume no 'zip64 extensible data'\u001b[39;00m\n\u001b[32m    274\u001b[39m fpin.seek(offset - sizeEndCentDir64Locator - sizeEndCentDir64, \u001b[32m2\u001b[39m)\n",
      "\u001b[31mBadZipFile\u001b[39m: zipfiles that span multiple disks are not supported"
     ]
    }
   ],
   "source": [
    "zip_path = Path(\"data/raw/mer2023train.zip\")\n",
    "\n",
    "with zipfile.ZipFile(zip_path, \"r\") as zf:\n",
    "    all_files = zf.namelist()\n",
    "    print(\"Total files:\", len(all_files))\n",
    "    print(\"First 20:\", all_files[:20])"
   ]
  },
  {
   "cell_type": "code",
   "execution_count": null,
   "id": "5ae872d5",
   "metadata": {},
   "outputs": [],
   "source": [
    "import subprocess, re, random\n",
    "from pathlib import Path\n",
    "\n",
    "def sample_files(files, ext, k=3):\n",
    "    subset = [f for f in files if f.lower().endswith(ext)]\n",
    "    return random.sample(subset, min(k, len(subset)))\n",
    "\n",
    "\n",
    "txts = sample_files(all_files, \".txt\")\n",
    "wavs = sample_files(all_files, \".wav\")\n",
    "mp4s = sample_files(all_files, \".mp4\")\n",
    "\n",
    "print(\"Sample TXT:\", txts)\n",
    "print(\"Sample WAV:\", wavs)\n",
    "print(\"Sample MP4:\", mp4s)\n"
   ]
  },
  {
   "cell_type": "code",
   "execution_count": null,
   "id": "d8ac0e4a",
   "metadata": {},
   "outputs": [],
   "source": [
    "sample_dir = Path(\"data/sample\")\n",
    "sample_dir.mkdir(parents=True, exist_ok=True)\n",
    "\n",
    "with zipfile.ZipFile(zip_path, \"r\") as zf:\n",
    "    for f in txts[:1] + wavs[:1] + mp4s[:1]:\n",
    "        zf.extract(f, path=sample_dir)\n",
    "        print(\"Extracted:\", f)\n"
   ]
  },
  {
   "cell_type": "code",
   "execution_count": null,
   "id": "47b31dba",
   "metadata": {},
   "outputs": [],
   "source": [
    "# --- 4. Peek inside a transcript without extracting all ---\n",
    "with zipfile.ZipFile(zip_path, \"r\") as zf:\n",
    "    with zf.open(txt_files[0]) as f:\n",
    "        content = f.read().decode(\"utf-8\", errors=\"ignore\")\n",
    "        print(\"Transcript preview:\", content[:300])\n"
   ]
  },
  {
   "cell_type": "code",
   "execution_count": null,
   "id": "f1af7cd8",
   "metadata": {},
   "outputs": [],
   "source": [
    "# --- 5. Extract just one audio + one video for inspection ---\n",
    "extract_dir = Path(\"data/sample\")\n",
    "extract_dir.mkdir(parents=True, exist_ok=True)\n",
    "\n",
    "with zipfile.ZipFile(zip_path, \"r\") as zf:\n",
    "    for fname in wav_files[:1] + mp4_files[:1]:\n",
    "        zf.extract(fname, path=extract_dir)\n",
    "        print(f\"Extracted {fname} to {extract_dir}\")"
   ]
  }
 ],
 "metadata": {
  "kernelspec": {
   "display_name": "mer-env (3.13.7)",
   "language": "python",
   "name": "python3"
  },
  "language_info": {
   "codemirror_mode": {
    "name": "ipython",
    "version": 3
   },
   "file_extension": ".py",
   "mimetype": "text/x-python",
   "name": "python",
   "nbconvert_exporter": "python",
   "pygments_lexer": "ipython3",
   "version": "3.13.7"
  }
 },
 "nbformat": 4,
 "nbformat_minor": 5
}
